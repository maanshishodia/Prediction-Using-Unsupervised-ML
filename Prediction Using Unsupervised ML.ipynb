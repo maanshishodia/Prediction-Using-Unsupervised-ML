{
 "cells": [
  {
   "cell_type": "markdown",
   "id": "020f21da",
   "metadata": {},
   "source": [
    "# The Sparks Foundation - Data Science & Business Analytics Internship"
   ]
  },
  {
   "cell_type": "markdown",
   "id": "a1c845ca",
   "metadata": {
    "ExecuteTime": {
     "end_time": "2022-02-08T15:44:42.144244Z",
     "start_time": "2022-02-08T15:44:42.124269Z"
    }
   },
   "source": [
    "**Task 2 - Prediction Using Unsupervised Machine Learning**"
   ]
  },
  {
   "cell_type": "markdown",
   "id": "1fa6a2bb",
   "metadata": {},
   "source": [
    "*In this task it is required to predict the optimum number of cluster for the .iris data set consists of three types of flower namely iris-setosa, iris-versicolour and iris-virginica*"
   ]
  },
  {
   "cell_type": "markdown",
   "id": "c65f5058",
   "metadata": {
    "ExecuteTime": {
     "end_time": "2022-02-08T15:48:47.504179Z",
     "start_time": "2022-02-08T15:48:47.485284Z"
    }
   },
   "source": [
    "**Author - Manish Shishodia**"
   ]
  },
  {
   "cell_type": "code",
   "execution_count": 1,
   "id": "60ae4fbc",
   "metadata": {
    "ExecuteTime": {
     "end_time": "2022-02-10T15:20:18.214590Z",
     "start_time": "2022-02-10T15:19:58.525631Z"
    }
   },
   "outputs": [],
   "source": [
    "import numpy as np\n",
    "import pandas as pd\n",
    "from matplotlib import pyplot as plt\n",
    "import seaborn as sns\n",
    "from sklearn import datasets\n",
    "from sklearn.cluster import KMeans"
   ]
  },
  {
   "cell_type": "code",
   "execution_count": 2,
   "id": "86e55f26",
   "metadata": {
    "ExecuteTime": {
     "end_time": "2022-02-10T15:20:18.245301Z",
     "start_time": "2022-02-10T15:20:18.222606Z"
    }
   },
   "outputs": [],
   "source": [
    "import warnings as wg\n",
    "wg.filterwarnings('ignore')"
   ]
  },
  {
   "cell_type": "code",
   "execution_count": 3,
   "id": "85a09e1c",
   "metadata": {
    "ExecuteTime": {
     "end_time": "2022-02-10T15:20:18.322467Z",
     "start_time": "2022-02-10T15:20:18.261211Z"
    }
   },
   "outputs": [],
   "source": [
    "df = pd.read_csv(\"Iris.csv\")"
   ]
  },
  {
   "cell_type": "code",
   "execution_count": 4,
   "id": "0a3f2fdf",
   "metadata": {
    "ExecuteTime": {
     "end_time": "2022-02-10T15:20:18.432694Z",
     "start_time": "2022-02-10T15:20:18.328492Z"
    }
   },
   "outputs": [
    {
     "data": {
      "text/html": [
       "<div>\n",
       "<style scoped>\n",
       "    .dataframe tbody tr th:only-of-type {\n",
       "        vertical-align: middle;\n",
       "    }\n",
       "\n",
       "    .dataframe tbody tr th {\n",
       "        vertical-align: top;\n",
       "    }\n",
       "\n",
       "    .dataframe thead th {\n",
       "        text-align: right;\n",
       "    }\n",
       "</style>\n",
       "<table border=\"1\" class=\"dataframe\">\n",
       "  <thead>\n",
       "    <tr style=\"text-align: right;\">\n",
       "      <th></th>\n",
       "      <th>Id</th>\n",
       "      <th>SepalLengthCm</th>\n",
       "      <th>SepalWidthCm</th>\n",
       "      <th>PetalLengthCm</th>\n",
       "      <th>PetalWidthCm</th>\n",
       "      <th>Species</th>\n",
       "    </tr>\n",
       "  </thead>\n",
       "  <tbody>\n",
       "    <tr>\n",
       "      <th>0</th>\n",
       "      <td>1</td>\n",
       "      <td>5.1</td>\n",
       "      <td>3.5</td>\n",
       "      <td>1.4</td>\n",
       "      <td>0.2</td>\n",
       "      <td>Iris-setosa</td>\n",
       "    </tr>\n",
       "    <tr>\n",
       "      <th>1</th>\n",
       "      <td>2</td>\n",
       "      <td>4.9</td>\n",
       "      <td>3.0</td>\n",
       "      <td>1.4</td>\n",
       "      <td>0.2</td>\n",
       "      <td>Iris-setosa</td>\n",
       "    </tr>\n",
       "    <tr>\n",
       "      <th>2</th>\n",
       "      <td>3</td>\n",
       "      <td>4.7</td>\n",
       "      <td>3.2</td>\n",
       "      <td>1.3</td>\n",
       "      <td>0.2</td>\n",
       "      <td>Iris-setosa</td>\n",
       "    </tr>\n",
       "    <tr>\n",
       "      <th>3</th>\n",
       "      <td>4</td>\n",
       "      <td>4.6</td>\n",
       "      <td>3.1</td>\n",
       "      <td>1.5</td>\n",
       "      <td>0.2</td>\n",
       "      <td>Iris-setosa</td>\n",
       "    </tr>\n",
       "    <tr>\n",
       "      <th>4</th>\n",
       "      <td>5</td>\n",
       "      <td>5.0</td>\n",
       "      <td>3.6</td>\n",
       "      <td>1.4</td>\n",
       "      <td>0.2</td>\n",
       "      <td>Iris-setosa</td>\n",
       "    </tr>\n",
       "  </tbody>\n",
       "</table>\n",
       "</div>"
      ],
      "text/plain": [
       "   Id  SepalLengthCm  SepalWidthCm  PetalLengthCm  PetalWidthCm      Species\n",
       "0   1            5.1           3.5            1.4           0.2  Iris-setosa\n",
       "1   2            4.9           3.0            1.4           0.2  Iris-setosa\n",
       "2   3            4.7           3.2            1.3           0.2  Iris-setosa\n",
       "3   4            4.6           3.1            1.5           0.2  Iris-setosa\n",
       "4   5            5.0           3.6            1.4           0.2  Iris-setosa"
      ]
     },
     "execution_count": 4,
     "metadata": {},
     "output_type": "execute_result"
    }
   ],
   "source": [
    "df.head()"
   ]
  },
  {
   "cell_type": "markdown",
   "id": "e6fcf404",
   "metadata": {
    "ExecuteTime": {
     "end_time": "2022-02-10T03:25:41.405717Z",
     "start_time": "2022-02-10T03:25:41.386498Z"
    }
   },
   "source": [
    "**Visualising the Data**"
   ]
  },
  {
   "cell_type": "code",
   "execution_count": 5,
   "id": "b832c047",
   "metadata": {
    "ExecuteTime": {
     "end_time": "2022-02-10T15:20:18.495289Z",
     "start_time": "2022-02-10T15:20:18.442633Z"
    }
   },
   "outputs": [
    {
     "data": {
      "text/html": [
       "<div>\n",
       "<style scoped>\n",
       "    .dataframe tbody tr th:only-of-type {\n",
       "        vertical-align: middle;\n",
       "    }\n",
       "\n",
       "    .dataframe tbody tr th {\n",
       "        vertical-align: top;\n",
       "    }\n",
       "\n",
       "    .dataframe thead th {\n",
       "        text-align: right;\n",
       "    }\n",
       "</style>\n",
       "<table border=\"1\" class=\"dataframe\">\n",
       "  <thead>\n",
       "    <tr style=\"text-align: right;\">\n",
       "      <th></th>\n",
       "      <th>Id</th>\n",
       "      <th>SepalLengthCm</th>\n",
       "      <th>SepalWidthCm</th>\n",
       "      <th>PetalLengthCm</th>\n",
       "      <th>PetalWidthCm</th>\n",
       "      <th>Species</th>\n",
       "    </tr>\n",
       "  </thead>\n",
       "  <tbody>\n",
       "    <tr>\n",
       "      <th>145</th>\n",
       "      <td>146</td>\n",
       "      <td>6.7</td>\n",
       "      <td>3.0</td>\n",
       "      <td>5.2</td>\n",
       "      <td>2.3</td>\n",
       "      <td>Iris-virginica</td>\n",
       "    </tr>\n",
       "    <tr>\n",
       "      <th>146</th>\n",
       "      <td>147</td>\n",
       "      <td>6.3</td>\n",
       "      <td>2.5</td>\n",
       "      <td>5.0</td>\n",
       "      <td>1.9</td>\n",
       "      <td>Iris-virginica</td>\n",
       "    </tr>\n",
       "    <tr>\n",
       "      <th>147</th>\n",
       "      <td>148</td>\n",
       "      <td>6.5</td>\n",
       "      <td>3.0</td>\n",
       "      <td>5.2</td>\n",
       "      <td>2.0</td>\n",
       "      <td>Iris-virginica</td>\n",
       "    </tr>\n",
       "    <tr>\n",
       "      <th>148</th>\n",
       "      <td>149</td>\n",
       "      <td>6.2</td>\n",
       "      <td>3.4</td>\n",
       "      <td>5.4</td>\n",
       "      <td>2.3</td>\n",
       "      <td>Iris-virginica</td>\n",
       "    </tr>\n",
       "    <tr>\n",
       "      <th>149</th>\n",
       "      <td>150</td>\n",
       "      <td>5.9</td>\n",
       "      <td>3.0</td>\n",
       "      <td>5.1</td>\n",
       "      <td>1.8</td>\n",
       "      <td>Iris-virginica</td>\n",
       "    </tr>\n",
       "  </tbody>\n",
       "</table>\n",
       "</div>"
      ],
      "text/plain": [
       "      Id  SepalLengthCm  SepalWidthCm  PetalLengthCm  PetalWidthCm  \\\n",
       "145  146            6.7           3.0            5.2           2.3   \n",
       "146  147            6.3           2.5            5.0           1.9   \n",
       "147  148            6.5           3.0            5.2           2.0   \n",
       "148  149            6.2           3.4            5.4           2.3   \n",
       "149  150            5.9           3.0            5.1           1.8   \n",
       "\n",
       "            Species  \n",
       "145  Iris-virginica  \n",
       "146  Iris-virginica  \n",
       "147  Iris-virginica  \n",
       "148  Iris-virginica  \n",
       "149  Iris-virginica  "
      ]
     },
     "execution_count": 5,
     "metadata": {},
     "output_type": "execute_result"
    }
   ],
   "source": [
    "df.tail()"
   ]
  },
  {
   "cell_type": "code",
   "execution_count": 6,
   "id": "61f54775",
   "metadata": {
    "ExecuteTime": {
     "end_time": "2022-02-10T15:20:18.730133Z",
     "start_time": "2022-02-10T15:20:18.500398Z"
    }
   },
   "outputs": [
    {
     "data": {
      "text/html": [
       "<div>\n",
       "<style scoped>\n",
       "    .dataframe tbody tr th:only-of-type {\n",
       "        vertical-align: middle;\n",
       "    }\n",
       "\n",
       "    .dataframe tbody tr th {\n",
       "        vertical-align: top;\n",
       "    }\n",
       "\n",
       "    .dataframe thead th {\n",
       "        text-align: right;\n",
       "    }\n",
       "</style>\n",
       "<table border=\"1\" class=\"dataframe\">\n",
       "  <thead>\n",
       "    <tr style=\"text-align: right;\">\n",
       "      <th></th>\n",
       "      <th>Id</th>\n",
       "      <th>SepalLengthCm</th>\n",
       "      <th>SepalWidthCm</th>\n",
       "      <th>PetalLengthCm</th>\n",
       "      <th>PetalWidthCm</th>\n",
       "    </tr>\n",
       "  </thead>\n",
       "  <tbody>\n",
       "    <tr>\n",
       "      <th>count</th>\n",
       "      <td>150.000000</td>\n",
       "      <td>150.000000</td>\n",
       "      <td>150.000000</td>\n",
       "      <td>150.000000</td>\n",
       "      <td>150.000000</td>\n",
       "    </tr>\n",
       "    <tr>\n",
       "      <th>mean</th>\n",
       "      <td>75.500000</td>\n",
       "      <td>5.843333</td>\n",
       "      <td>3.054000</td>\n",
       "      <td>3.758667</td>\n",
       "      <td>1.198667</td>\n",
       "    </tr>\n",
       "    <tr>\n",
       "      <th>std</th>\n",
       "      <td>43.445368</td>\n",
       "      <td>0.828066</td>\n",
       "      <td>0.433594</td>\n",
       "      <td>1.764420</td>\n",
       "      <td>0.763161</td>\n",
       "    </tr>\n",
       "    <tr>\n",
       "      <th>min</th>\n",
       "      <td>1.000000</td>\n",
       "      <td>4.300000</td>\n",
       "      <td>2.000000</td>\n",
       "      <td>1.000000</td>\n",
       "      <td>0.100000</td>\n",
       "    </tr>\n",
       "    <tr>\n",
       "      <th>25%</th>\n",
       "      <td>38.250000</td>\n",
       "      <td>5.100000</td>\n",
       "      <td>2.800000</td>\n",
       "      <td>1.600000</td>\n",
       "      <td>0.300000</td>\n",
       "    </tr>\n",
       "    <tr>\n",
       "      <th>50%</th>\n",
       "      <td>75.500000</td>\n",
       "      <td>5.800000</td>\n",
       "      <td>3.000000</td>\n",
       "      <td>4.350000</td>\n",
       "      <td>1.300000</td>\n",
       "    </tr>\n",
       "    <tr>\n",
       "      <th>75%</th>\n",
       "      <td>112.750000</td>\n",
       "      <td>6.400000</td>\n",
       "      <td>3.300000</td>\n",
       "      <td>5.100000</td>\n",
       "      <td>1.800000</td>\n",
       "    </tr>\n",
       "    <tr>\n",
       "      <th>max</th>\n",
       "      <td>150.000000</td>\n",
       "      <td>7.900000</td>\n",
       "      <td>4.400000</td>\n",
       "      <td>6.900000</td>\n",
       "      <td>2.500000</td>\n",
       "    </tr>\n",
       "  </tbody>\n",
       "</table>\n",
       "</div>"
      ],
      "text/plain": [
       "               Id  SepalLengthCm  SepalWidthCm  PetalLengthCm  PetalWidthCm\n",
       "count  150.000000     150.000000    150.000000     150.000000    150.000000\n",
       "mean    75.500000       5.843333      3.054000       3.758667      1.198667\n",
       "std     43.445368       0.828066      0.433594       1.764420      0.763161\n",
       "min      1.000000       4.300000      2.000000       1.000000      0.100000\n",
       "25%     38.250000       5.100000      2.800000       1.600000      0.300000\n",
       "50%     75.500000       5.800000      3.000000       4.350000      1.300000\n",
       "75%    112.750000       6.400000      3.300000       5.100000      1.800000\n",
       "max    150.000000       7.900000      4.400000       6.900000      2.500000"
      ]
     },
     "execution_count": 6,
     "metadata": {},
     "output_type": "execute_result"
    }
   ],
   "source": [
    "df.describe()"
   ]
  },
  {
   "cell_type": "code",
   "execution_count": 7,
   "id": "3b97114e",
   "metadata": {
    "ExecuteTime": {
     "end_time": "2022-02-10T15:20:18.762055Z",
     "start_time": "2022-02-10T15:20:18.736134Z"
    }
   },
   "outputs": [
    {
     "data": {
      "text/plain": [
       "(150, 6)"
      ]
     },
     "execution_count": 7,
     "metadata": {},
     "output_type": "execute_result"
    }
   ],
   "source": [
    "df.shape"
   ]
  },
  {
   "cell_type": "code",
   "execution_count": 8,
   "id": "9f1885b4",
   "metadata": {
    "ExecuteTime": {
     "end_time": "2022-02-10T15:20:18.801326Z",
     "start_time": "2022-02-10T15:20:18.769871Z"
    }
   },
   "outputs": [
    {
     "data": {
      "text/plain": [
       "Index(['Id', 'SepalLengthCm', 'SepalWidthCm', 'PetalLengthCm', 'PetalWidthCm',\n",
       "       'Species'],\n",
       "      dtype='object')"
      ]
     },
     "execution_count": 8,
     "metadata": {},
     "output_type": "execute_result"
    }
   ],
   "source": [
    "df.columns"
   ]
  },
  {
   "cell_type": "code",
   "execution_count": 9,
   "id": "db5862a1",
   "metadata": {
    "ExecuteTime": {
     "end_time": "2022-02-10T15:20:18.869761Z",
     "start_time": "2022-02-10T15:20:18.815503Z"
    }
   },
   "outputs": [
    {
     "data": {
      "text/plain": [
       "array(['Iris-setosa', 'Iris-versicolor', 'Iris-virginica'], dtype=object)"
      ]
     },
     "execution_count": 9,
     "metadata": {},
     "output_type": "execute_result"
    }
   ],
   "source": [
    "df[\"Species\"].unique()"
   ]
  },
  {
   "cell_type": "code",
   "execution_count": 10,
   "id": "39a138c7",
   "metadata": {
    "ExecuteTime": {
     "end_time": "2022-02-10T15:20:18.931695Z",
     "start_time": "2022-02-10T15:20:18.878396Z"
    }
   },
   "outputs": [
    {
     "name": "stdout",
     "output_type": "stream",
     "text": [
      "<class 'pandas.core.frame.DataFrame'>\n",
      "RangeIndex: 150 entries, 0 to 149\n",
      "Data columns (total 6 columns):\n",
      " #   Column         Non-Null Count  Dtype  \n",
      "---  ------         --------------  -----  \n",
      " 0   Id             150 non-null    int64  \n",
      " 1   SepalLengthCm  150 non-null    float64\n",
      " 2   SepalWidthCm   150 non-null    float64\n",
      " 3   PetalLengthCm  150 non-null    float64\n",
      " 4   PetalWidthCm   150 non-null    float64\n",
      " 5   Species        150 non-null    object \n",
      "dtypes: float64(4), int64(1), object(1)\n",
      "memory usage: 7.2+ KB\n"
     ]
    }
   ],
   "source": [
    "df.info()"
   ]
  },
  {
   "cell_type": "code",
   "execution_count": 11,
   "id": "9e0242de",
   "metadata": {
    "ExecuteTime": {
     "end_time": "2022-02-10T15:20:18.963323Z",
     "start_time": "2022-02-10T15:20:18.940698Z"
    }
   },
   "outputs": [],
   "source": [
    "iris = pd.DataFrame(df)\n",
    "iris_df = iris.drop(columns=[\"Id\", \"Species\"])"
   ]
  },
  {
   "cell_type": "code",
   "execution_count": 12,
   "id": "86018d86",
   "metadata": {
    "ExecuteTime": {
     "end_time": "2022-02-10T15:20:19.040766Z",
     "start_time": "2022-02-10T15:20:18.975417Z"
    }
   },
   "outputs": [
    {
     "data": {
      "text/html": [
       "<div>\n",
       "<style scoped>\n",
       "    .dataframe tbody tr th:only-of-type {\n",
       "        vertical-align: middle;\n",
       "    }\n",
       "\n",
       "    .dataframe tbody tr th {\n",
       "        vertical-align: top;\n",
       "    }\n",
       "\n",
       "    .dataframe thead th {\n",
       "        text-align: right;\n",
       "    }\n",
       "</style>\n",
       "<table border=\"1\" class=\"dataframe\">\n",
       "  <thead>\n",
       "    <tr style=\"text-align: right;\">\n",
       "      <th></th>\n",
       "      <th>SepalLengthCm</th>\n",
       "      <th>SepalWidthCm</th>\n",
       "      <th>PetalLengthCm</th>\n",
       "      <th>PetalWidthCm</th>\n",
       "    </tr>\n",
       "  </thead>\n",
       "  <tbody>\n",
       "    <tr>\n",
       "      <th>0</th>\n",
       "      <td>5.1</td>\n",
       "      <td>3.5</td>\n",
       "      <td>1.4</td>\n",
       "      <td>0.2</td>\n",
       "    </tr>\n",
       "    <tr>\n",
       "      <th>1</th>\n",
       "      <td>4.9</td>\n",
       "      <td>3.0</td>\n",
       "      <td>1.4</td>\n",
       "      <td>0.2</td>\n",
       "    </tr>\n",
       "    <tr>\n",
       "      <th>2</th>\n",
       "      <td>4.7</td>\n",
       "      <td>3.2</td>\n",
       "      <td>1.3</td>\n",
       "      <td>0.2</td>\n",
       "    </tr>\n",
       "    <tr>\n",
       "      <th>3</th>\n",
       "      <td>4.6</td>\n",
       "      <td>3.1</td>\n",
       "      <td>1.5</td>\n",
       "      <td>0.2</td>\n",
       "    </tr>\n",
       "    <tr>\n",
       "      <th>4</th>\n",
       "      <td>5.0</td>\n",
       "      <td>3.6</td>\n",
       "      <td>1.4</td>\n",
       "      <td>0.2</td>\n",
       "    </tr>\n",
       "  </tbody>\n",
       "</table>\n",
       "</div>"
      ],
      "text/plain": [
       "   SepalLengthCm  SepalWidthCm  PetalLengthCm  PetalWidthCm\n",
       "0            5.1           3.5            1.4           0.2\n",
       "1            4.9           3.0            1.4           0.2\n",
       "2            4.7           3.2            1.3           0.2\n",
       "3            4.6           3.1            1.5           0.2\n",
       "4            5.0           3.6            1.4           0.2"
      ]
     },
     "execution_count": 12,
     "metadata": {},
     "output_type": "execute_result"
    }
   ],
   "source": [
    "iris_df.head()"
   ]
  },
  {
   "cell_type": "markdown",
   "id": "c113c7e7",
   "metadata": {},
   "source": [
    "**Find the optimum number of cluster**"
   ]
  },
  {
   "cell_type": "markdown",
   "id": "69e419a6",
   "metadata": {
    "ExecuteTime": {
     "end_time": "2022-02-10T03:38:29.458622Z",
     "start_time": "2022-02-10T03:38:29.439029Z"
    }
   },
   "source": [
    "*Before clustring the data using kmeans, we need to specify the number of clusters. In order to find the optimum number of clusters, there are various methods available, like Silhouette Cofficient and The Elbow Method. Here the elbow method is used*"
   ]
  },
  {
   "cell_type": "markdown",
   "id": "babee4b9",
   "metadata": {
    "ExecuteTime": {
     "end_time": "2022-02-10T03:39:25.005351Z",
     "start_time": "2022-02-10T03:39:24.980941Z"
    }
   },
   "source": [
    "**Brief about The Elbow Method**"
   ]
  },
  {
   "cell_type": "markdown",
   "id": "52d469bc",
   "metadata": {},
   "source": [
    "*In this method, this number of clusters are varies within a certain range. For each number , within cluster sum of square(wss) value is calcualated and stored in a list. These values are then plotted against the range of number of clusters used before. The location of the bend in the 2D plot indicates the appropiate number of clusters.*"
   ]
  },
  {
   "cell_type": "code",
   "execution_count": 13,
   "id": "cc97266a",
   "metadata": {
    "ExecuteTime": {
     "end_time": "2022-02-10T15:20:21.630204Z",
     "start_time": "2022-02-10T15:20:19.045765Z"
    }
   },
   "outputs": [],
   "source": [
    "within_cluster_sum_of_square = []\n",
    "cluster_range = range(1, 15)\n",
    "\n",
    "for k in cluster_range:\n",
    "    km = KMeans(n_clusters=k)\n",
    "    km = km.fit(iris_df)\n",
    "    within_cluster_sum_of_square.append(km.inertia_)"
   ]
  },
  {
   "cell_type": "code",
   "execution_count": 14,
   "id": "7fdfcd8b",
   "metadata": {
    "ExecuteTime": {
     "end_time": "2022-02-10T15:20:21.660947Z",
     "start_time": "2022-02-10T15:20:21.637207Z"
    }
   },
   "outputs": [
    {
     "data": {
      "text/plain": [
       "[680.8243999999996,\n",
       " 152.36870647733915,\n",
       " 78.94084142614601,\n",
       " 57.317873214285726,\n",
       " 46.535582051282034,\n",
       " 39.19708292889162,\n",
       " 34.32042673992674,\n",
       " 29.985923949641354,\n",
       " 27.999767543859658,\n",
       " 26.271551036682627,\n",
       " 24.606982295482304,\n",
       " 22.960282731157744,\n",
       " 21.335414682539678,\n",
       " 20.37272461456672]"
      ]
     },
     "execution_count": 14,
     "metadata": {},
     "output_type": "execute_result"
    }
   ],
   "source": [
    "within_cluster_sum_of_square"
   ]
  },
  {
   "cell_type": "code",
   "execution_count": 15,
   "id": "0e0b54e8",
   "metadata": {
    "ExecuteTime": {
     "end_time": "2022-02-10T15:20:22.782998Z",
     "start_time": "2022-02-10T15:20:21.672563Z"
    }
   },
   "outputs": [
    {
     "data": {
      "image/png": "[encoded data removed]",
      "text/plain": [
       "<Figure size 432x288 with 1 Axes>"
      ]
     },
     "metadata": {
      "needs_background": "light"
     },
     "output_type": "display_data"
    }
   ],
   "source": [
    "plt.plot(cluster_range, within_cluster_sum_of_square, \"go--\", color=\"b\")\n",
    "plt.xlabel(\"Number of Cluster\")\n",
    "plt.ylabel(\"Within-cluster sum of square\")\n",
    "plt.title(\"The Elbow Method\")\n",
    "plt.grid()\n",
    "\n",
    "plt.tight_layout()\n",
    "\n",
    "plt.show()"
   ]
  },
  {
   "cell_type": "markdown",
   "id": "88c89b0e",
   "metadata": {},
   "source": [
    "*We can see clearly why it is called The Elbow Method from the above graph, the optimum clusters is where the elbow occurs. This is when the within cluster sum of square(WCSS) doesn't decrease significantly with every itration.*"
   ]
  },
  {
   "cell_type": "markdown",
   "id": "2c712f38",
   "metadata": {},
   "source": [
    "*From this we choose the number of clusters as \"3\"*"
   ]
  },
  {
   "cell_type": "markdown",
   "id": "e0455b20",
   "metadata": {},
   "source": [
    "**Applying KMeans Clustring On The Data**"
   ]
  },
  {
   "cell_type": "code",
   "execution_count": 16,
   "id": "5b9fcdb9",
   "metadata": {
    "ExecuteTime": {
     "end_time": "2022-02-10T15:20:22.877003Z",
     "start_time": "2022-02-10T15:20:22.787695Z"
    }
   },
   "outputs": [],
   "source": [
    "model = KMeans(n_clusters=3)\n",
    "predictions = model.fit_predict(iris_df)"
   ]
  },
  {
   "cell_type": "code",
   "execution_count": 17,
   "id": "bcf1eca3",
   "metadata": {
    "ExecuteTime": {
     "end_time": "2022-02-10T15:20:22.911979Z",
     "start_time": "2022-02-10T15:20:22.883905Z"
    }
   },
   "outputs": [
    {
     "data": {
      "text/plain": [
       "array([1, 1, 1, 1, 1, 1, 1, 1, 1, 1, 1, 1, 1, 1, 1, 1, 1, 1, 1, 1, 1, 1,\n",
       "       1, 1, 1, 1, 1, 1, 1, 1, 1, 1, 1, 1, 1, 1, 1, 1, 1, 1, 1, 1, 1, 1,\n",
       "       1, 1, 1, 1, 1, 1, 0, 0, 2, 0, 0, 0, 0, 0, 0, 0, 0, 0, 0, 0, 0, 0,\n",
       "       0, 0, 0, 0, 0, 0, 0, 0, 0, 0, 0, 2, 0, 0, 0, 0, 0, 0, 0, 0, 0, 0,\n",
       "       0, 0, 0, 0, 0, 0, 0, 0, 0, 0, 0, 0, 2, 0, 2, 2, 2, 2, 0, 2, 2, 2,\n",
       "       2, 2, 2, 0, 0, 2, 2, 2, 2, 0, 2, 0, 2, 0, 2, 2, 0, 0, 2, 2, 2, 2,\n",
       "       2, 0, 2, 2, 2, 2, 0, 2, 2, 2, 0, 2, 2, 2, 0, 2, 2, 0])"
      ]
     },
     "execution_count": 17,
     "metadata": {},
     "output_type": "execute_result"
    }
   ],
   "source": [
    "predictions"
   ]
  },
  {
   "cell_type": "markdown",
   "id": "5cba52b9",
   "metadata": {},
   "source": [
    "**Visualise the Clusters**"
   ]
  },
  {
   "cell_type": "code",
   "execution_count": 18,
   "id": "2dff06bc",
   "metadata": {
    "ExecuteTime": {
     "end_time": "2022-02-10T15:20:23.792707Z",
     "start_time": "2022-02-10T15:20:22.920786Z"
    }
   },
   "outputs": [
    {
     "data": {
      "image/png": "[encoded data removed]",
      "text/plain": [
       "<Figure size 432x288 with 1 Axes>"
      ]
     },
     "metadata": {
      "needs_background": "light"
     },
     "output_type": "display_data"
    }
   ],
   "source": [
    "x = iris_df.iloc[:, [0, 1, 2, 3]].values\n",
    "plt.scatter(x[predictions == 0, 0], x[predictions == 0, 1], s=25, color=\"r\", label=\"Iris-Setosa\")\n",
    "plt.scatter(x[predictions == 1, 0], x[predictions == 1, 1], s=25, color=\"b\", label=\"Iris-VersiColor\")\n",
    "plt.scatter(x[predictions == 2, 0], x[predictions == 2, 1], s=25, color=\"g\", label=\"Iris-Virginica\")\n",
    "\n",
    "plt.scatter(model.cluster_centers_[:, 0], model.cluster_centers_[:, 1], color=\"k\", s= 100, label= \"Centroids\")\n",
    "plt.legend()\n",
    "plt.grid()\n",
    "\n",
    "plt.show()"
   ]
  },
  {
   "cell_type": "raw",
   "id": "78a1a3da",
   "metadata": {},
   "source": [
    "***THANKYOU***"
   ]
  }
 ],
 "metadata": {
  "kernelspec": {
   "display_name": "Python 3",
   "language": "python",
   "name": "python3"
  },
  "language_info": {
   "codemirror_mode": {
    "name": "ipython",
    "version": 3
   },
   "file_extension": ".py",
   "mimetype": "text/x-python",
   "name": "python",
   "nbconvert_exporter": "python",
   "pygments_lexer": "ipython3",
   "version": "3.8.8"
  }
 },
 "nbformat": 4,
 "nbformat_minor": 5
}
